{
 "cells": [
  {
   "cell_type": "markdown",
   "id": "ffa89bcf",
   "metadata": {},
   "source": [
    "# Shopping Time Optimization - YAP441\n",
    "Zeynep Meriç Aşık - 201410026"
   ]
  },
  {
   "cell_type": "code",
   "execution_count": 1,
   "id": "0e7dc654",
   "metadata": {},
   "outputs": [],
   "source": [
    "#!pip install -r requirements.txt"
   ]
  },
  {
   "cell_type": "code",
   "execution_count": 2,
   "id": "9053e828",
   "metadata": {},
   "outputs": [],
   "source": [
    "import pandas as pd\n",
    "import numpy as np"
   ]
  },
  {
   "cell_type": "markdown",
   "id": "7f003464",
   "metadata": {},
   "source": [
    "## Market Design"
   ]
  },
  {
   "cell_type": "code",
   "execution_count": 81,
   "id": "75b6ba0b",
   "metadata": {},
   "outputs": [],
   "source": [
    "class Product:\n",
    "    def __init__(self, name, wait_time=1, price=1):\n",
    "        self.name = name\n",
    "        self.wait_time = wait_time  # in minutes\n",
    "        self.price = price\n",
    "\n",
    "    def __str__(self):\n",
    "        return f\"{self.name} (Waiting Time: {self.wait_time} minutes, Price: {self.price} TL)\""
   ]
  },
  {
   "cell_type": "code",
   "execution_count": 82,
   "id": "99ece32f",
   "metadata": {},
   "outputs": [],
   "source": [
    "class Graph:\n",
    "    def __init__(self):\n",
    "        self.adjacency_list = {}\n",
    "\n",
    "        \n",
    "    def add_vertex(self, vertex):\n",
    "        if vertex not in self.adjacency_list:\n",
    "            self.adjacency_list[vertex] = []\n",
    "\n",
    "            \n",
    "    def add_edge(self, from_vertex, to_vertex, weight):\n",
    "        if from_vertex in self.adjacency_list and to_vertex in self.adjacency_list:\n",
    "            self.adjacency_list[from_vertex].append((to_vertex, weight))\n",
    "            self.adjacency_list[to_vertex].append((from_vertex, weight))\n",
    "\n",
    "            \n",
    "    def get_path_weight(self, path): # get the total weights through the path\n",
    "        total_weight = 0\n",
    "        for i in range(len(path) - 1):\n",
    "            for neighbor in self.adjacency_list[path[i]]:\n",
    "                if neighbor[0] == path[i + 1]:\n",
    "                    total_weight += neighbor[1]\n",
    "                    break\n",
    "        return total_weight\n",
    "    \n",
    "    \n",
    "    def get_wait_time(self, path, product_wait_times):  # get the total wait time through the path\n",
    "        total_weight = 0\n",
    "        for i in range(len(path) - 1):\n",
    "            if path[i] in product_wait_times:\n",
    "                total_weight += product_wait_times[path[i]]\n",
    "\n",
    "        if path[-1] in product_wait_times:\n",
    "            total_weight += product_wait_times[path[-1]]\n",
    "\n",
    "        return total_weight\n",
    "\n",
    "    \n",
    "    def display_products(self):\n",
    "        corridor_to_products = {}\n",
    "\n",
    "        for key, neighbors in self.adjacency_list.items():\n",
    "            if not isinstance(key, Product):# if it is a corridor\n",
    "                corridor_to_products[key] = []# add corridor to dictionary\n",
    "\n",
    "                for neighbor in neighbors:\n",
    "                    if isinstance(neighbor[0], Product):# if it is a product and a neighbor\n",
    "                        corridor_to_products[key].append(neighbor[0].name)# add it to this corridor's product list\n",
    "\n",
    "        del corridor_to_products[\"Checkout\"]# checkout is not a corridor\n",
    "        \n",
    "        for corridor, products in corridor_to_products.items():\n",
    "            print(f\"{corridor}: {products}\")\n",
    "    \n",
    "    \n",
    "    def display_connected_corridors(self):\n",
    "        corridor_connections = {}\n",
    "\n",
    "        for key, neighbors in self.adjacency_list.items():\n",
    "            if not isinstance(key, Product):# if it is a corridor\n",
    "                corridor_connections[key] = []# initialize corridor\n",
    "\n",
    "                for neighbor in neighbors:\n",
    "                    if not isinstance(neighbor[0], Product):# if it is a neighbor but not a product\n",
    "                        corridor_connections[key].append(neighbor[0])# it is a connected corridor\n",
    "\n",
    "        for corridor, connections in corridor_connections.items():\n",
    "            print(f\"{corridor}: {connections}\")"
   ]
  },
  {
   "cell_type": "code",
   "execution_count": 83,
   "id": "0e245f31",
   "metadata": {},
   "outputs": [],
   "source": [
    "# Product List\n",
    "\n",
    "# Fruits and Vegetables\n",
    "apple = Product(\"Apple\", price=5)\n",
    "banana = Product(\"Banana\", price=4)\n",
    "orange = Product(\"Orange\", price=6)\n",
    "grapes = Product(\"Grapes\", price=8)\n",
    "strawberry = Product(\"Strawberry\", price=10)\n",
    "pear = Product(\"Pear\", price=5)\n",
    "kiwi = Product(\"Kiwi\", price=7)\n",
    "carrot = Product(\"Carrot\", price=3)\n",
    "potato = Product(\"Potato\", price=2)\n",
    "tomato = Product(\"Tomato\", price=4)\n",
    "lettuce = Product(\"Lettuce\", price=3)\n",
    "cucumber = Product(\"Cucumber\", price=2)\n",
    "peppers = Product(\"Peppers\", price=5)\n",
    "onion = Product(\"Onion\", price=2)\n",
    "mushrooms = Product(\"Mushrooms\", wait_time=2, price=6)\n",
    "\n",
    "# Dairy\n",
    "milk = Product(\"Milk\", price=4)\n",
    "cheese = Product(\"Cheese\", wait_time=2, price=30)\n",
    "yoghurt = Product(\"Yogurt\", wait_time=1, price=9)\n",
    "butter = Product(\"Butter\", price=15)\n",
    "cream = Product(\"Cream\", price=7)\n",
    "eggs = Product(\"Eggs\", wait_time=1, price=10)\n",
    "\n",
    "# Bakery\n",
    "bread = Product(\"Bread\", price=3)\n",
    "croissant = Product(\"Croissant\", price=5)\n",
    "baguette = Product(\"Baguette\", price=4)\n",
    "muffin = Product(\"Muffin\", price=2)\n",
    "cake = Product(\"Cake\", wait_time=5, price=20)\n",
    "pie = Product(\"Pie\", wait_time=4, price=15)\n",
    "\n",
    "# Meat and Fish\n",
    "meat = Product(\"Meat\", wait_time=5, price=50)\n",
    "fish = Product(\"Fish\", wait_time=10, price=40)\n",
    "chicken = Product(\"Chicken\", wait_time=3, price=25)\n",
    "sausage = Product(\"Sausage\", price=20)\n",
    "bacon = Product(\"Bacon\", price=22)\n",
    "shrimp = Product(\"Shrimp\", wait_time=6, price=35)\n",
    "\n",
    "# Beverages\n",
    "orange_juice = Product(\"Orange Juice\", price=6)\n",
    "coffee = Product(\"Coffee\", wait_time=2, price=15)\n",
    "tea = Product(\"Tea\", price=12)\n",
    "water = Product(\"Water\", price=1)\n",
    "soda = Product(\"Soda\", price=3)\n",
    "beer = Product(\"Beer\", price=5)\n",
    "wine = Product(\"Wine\", price=15)\n",
    "\n",
    "# Snacks and Others\n",
    "chocolate = Product(\"Chocolate\", price=7)\n",
    "chips = Product(\"Chips\", price=4)\n",
    "nuts = Product(\"Nuts\", price=10)\n",
    "crackers = Product(\"Crackers\", price=5)\n",
    "pasta = Product(\"Pasta\", price=8)\n",
    "rice = Product(\"Rice\", price=5)\n",
    "cereal = Product(\"Cereal\", price=8)\n",
    "honey = Product(\"Honey\", wait_time=2, price=12)"
   ]
  },
  {
   "cell_type": "code",
   "execution_count": 84,
   "id": "fd526f94",
   "metadata": {},
   "outputs": [],
   "source": [
    "market_graph = Graph()\n",
    "\n",
    "# adding corridors\n",
    "market_graph.add_vertex(\"Bakery\")\n",
    "market_graph.add_vertex(\"Meat and Fish\")\n",
    "market_graph.add_vertex(\"Fruits and Vegetables\")\n",
    "market_graph.add_vertex(\"Dairy\")\n",
    "market_graph.add_vertex(\"Beverages\")\n",
    "market_graph.add_vertex(\"Snacks\")\n",
    "market_graph.add_vertex(\"Checkout\")\n",
    "\n",
    "# connecting corridors\n",
    "market_graph.add_edge(\"Bakery\", \"Snacks\", 2)\n",
    "market_graph.add_edge(\"Bakery\", \"Beverages\", 2)\n",
    "market_graph.add_edge(\"Meat and Fish\", \"Dairy\", 2)\n",
    "market_graph.add_edge(\"Meat and Fish\", \"Fruits and Vegetables\", 2)\n",
    "market_graph.add_edge(\"Snacks\", \"Beverages\", 2)\n",
    "market_graph.add_edge(\"Snacks\", \"Checkout\", 3)\n",
    "market_graph.add_edge(\"Beverages\", \"Dairy\", 2)\n",
    "market_graph.add_edge(\"Beverages\", \"Checkout\", 3)\n",
    "market_graph.add_edge(\"Dairy\", \"Fruits and Vegetables\", 2)\n",
    "market_graph.add_edge(\"Dairy\", \"Checkout\", 3)\n",
    "market_graph.add_edge(\"Fruits and Vegetables\", \"Checkout\", 3)\n",
    "\n",
    "# adding products to their corridors\n",
    "product_corridor_map = {\n",
    "    \"Bakery\": [bread, croissant, baguette, muffin, cake, pie],\n",
    "    \"Meat and Fish\": [meat, fish, chicken, sausage, bacon, shrimp],\n",
    "    \"Fruits and Vegetables\": [apple, banana, orange, grapes, strawberry, pear, kiwi, carrot, potato, tomato, lettuce, cucumber, peppers, onion, mushrooms],\n",
    "    \"Dairy\": [milk, cheese, yoghurt, butter, cream, eggs],\n",
    "    \"Beverages\": [orange_juice, coffee, tea, water, soda, beer, wine],\n",
    "    \"Snacks\": [chocolate, chips, nuts, crackers, pasta, rice, cereal, honey]\n",
    "}\n",
    "\n",
    "# adding products to the graph\n",
    "for corridor, products in product_corridor_map.items():\n",
    "    for product in products:\n",
    "        market_graph.add_vertex(product)\n",
    "        market_graph.add_edge(corridor, product, 1)\n",
    "\n",
    "# connect the products within each corridor\n",
    "for products in product_corridor_map.values():\n",
    "    for i in range(len(products) - 1):\n",
    "        # connecting each product to the next product within the same corridor\n",
    "        market_graph.add_edge(products[i], products[i+1], 1)"
   ]
  },
  {
   "cell_type": "code",
   "execution_count": 85,
   "id": "ab76b0f1",
   "metadata": {},
   "outputs": [
    {
     "name": "stdout",
     "output_type": "stream",
     "text": [
      "Bakery: ['Bread', 'Croissant', 'Baguette', 'Muffin', 'Cake', 'Pie']\n",
      "Meat and Fish: ['Meat', 'Fish', 'Chicken', 'Sausage', 'Bacon', 'Shrimp']\n",
      "Fruits and Vegetables: ['Apple', 'Banana', 'Orange', 'Grapes', 'Strawberry', 'Pear', 'Kiwi', 'Carrot', 'Potato', 'Tomato', 'Lettuce', 'Cucumber', 'Peppers', 'Onion', 'Mushrooms']\n",
      "Dairy: ['Milk', 'Cheese', 'Yogurt', 'Butter', 'Cream', 'Eggs']\n",
      "Beverages: ['Orange Juice', 'Coffee', 'Tea', 'Water', 'Soda', 'Beer', 'Wine']\n",
      "Snacks: ['Chocolate', 'Chips', 'Nuts', 'Crackers', 'Pasta', 'Rice', 'Cereal', 'Honey']\n"
     ]
    }
   ],
   "source": [
    "# display which product is in which corridor\n",
    "market_graph.display_products()"
   ]
  },
  {
   "cell_type": "code",
   "execution_count": 86,
   "id": "7dfd5541",
   "metadata": {},
   "outputs": [
    {
     "name": "stdout",
     "output_type": "stream",
     "text": [
      "Bakery: ['Snacks', 'Beverages']\n",
      "Meat and Fish: ['Dairy', 'Fruits and Vegetables']\n",
      "Fruits and Vegetables: ['Meat and Fish', 'Dairy', 'Checkout']\n",
      "Dairy: ['Meat and Fish', 'Beverages', 'Fruits and Vegetables', 'Checkout']\n",
      "Beverages: ['Bakery', 'Snacks', 'Dairy', 'Checkout']\n",
      "Snacks: ['Bakery', 'Beverages', 'Checkout']\n",
      "Checkout: ['Snacks', 'Beverages', 'Dairy', 'Fruits and Vegetables']\n"
     ]
    }
   ],
   "source": [
    "# display the connected corridors\n",
    "market_graph.display_connected_corridors()"
   ]
  },
  {
   "cell_type": "code",
   "execution_count": 41,
   "id": "8fa208dd",
   "metadata": {},
   "outputs": [
    {
     "name": "stdout",
     "output_type": "stream",
     "text": [
      "Apple (Waiting Time: 1 minutes, Price: 5 TL)\n",
      "Total time for the path including wait times: 16 minutes\n"
     ]
    }
   ],
   "source": [
    "# usage example          ######del\n",
    "print(apple)\n",
    "\n",
    "product_wait_times = {\n",
    "    apple: apple.wait_time,\n",
    "    meat: meat.wait_time,\n",
    "    fish: fish.wait_time\n",
    "}\n",
    "\n",
    "path = [apple, meat, fish, \"Checkout\"]\n",
    "total_time = market_graph.get_wait_time(path, product_wait_times)\n",
    "print(f\"Total time for the path including wait times: {total_time} minutes\")"
   ]
  },
  {
   "cell_type": "code",
   "execution_count": 52,
   "id": "65e2274b",
   "metadata": {},
   "outputs": [
    {
     "data": {
      "text/plain": [
       "True"
      ]
     },
     "execution_count": 52,
     "metadata": {},
     "output_type": "execute_result"
    }
   ],
   "source": [
    "#############3\n",
    "isinstance(apple, Product)"
   ]
  },
  {
   "cell_type": "markdown",
   "id": "58a3d02a",
   "metadata": {},
   "source": [
    "## Algorithm to optimize shopping time"
   ]
  },
  {
   "cell_type": "code",
   "execution_count": null,
   "id": "a1a1b315",
   "metadata": {},
   "outputs": [],
   "source": []
  }
 ],
 "metadata": {
  "kernelspec": {
   "display_name": "Python 3 (ipykernel)",
   "language": "python",
   "name": "python3"
  },
  "language_info": {
   "codemirror_mode": {
    "name": "ipython",
    "version": 3
   },
   "file_extension": ".py",
   "mimetype": "text/x-python",
   "name": "python",
   "nbconvert_exporter": "python",
   "pygments_lexer": "ipython3",
   "version": "3.9.1"
  }
 },
 "nbformat": 4,
 "nbformat_minor": 5
}
